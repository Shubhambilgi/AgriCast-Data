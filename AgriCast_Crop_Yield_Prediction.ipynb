{
 "cells": [
  {
   "cell_type": "code",
   "execution_count": 31,
   "id": "6bc205ca",
   "metadata": {},
   "outputs": [],
   "source": [
    "import pandas as pd\n",
    "import numpy as np\n",
    "import matplotlib.pyplot as plt\n",
    "import seaborn as sns\n",
    "from sklearn.model_selection import train_test_split\n",
    "from sklearn.linear_model import LinearRegression\n",
    "from sklearn.metrics import mean_squared_error, r2_score"
   ]
  },
  {
   "cell_type": "code",
   "execution_count": 32,
   "id": "2c0f50b5",
   "metadata": {},
   "outputs": [],
   "source": [
    "crop_production = pd.read_csv(\"crop_production.csv\")\n",
    "soil_data = pd.read_csv(\"soil_data.csv\")\n",
    "crop_prices = pd.read_csv(\"crop_prices.csv\")\n",
    "district_rainfall = pd.read_csv(\"district wise rainfall normal.csv\")"
   ]
  },
  {
   "cell_type": "code",
   "execution_count": 33,
   "id": "b48e9a0a",
   "metadata": {},
   "outputs": [],
   "source": [
    "crop_production[\"District\"] = crop_production[\"District\"].str.strip().str.lower()\n",
    "soil_data[\"District\"] = soil_data[\"District\"].str.strip().str.lower()\n",
    "district_rainfall[\"DISTRICT\"] = district_rainfall[\"DISTRICT\"].str.strip().str.lower()\n",
    "district_rainfall[\"STATE_UT_NAME\"] = district_rainfall[\"STATE_UT_NAME\"].str.strip().str.lower()\n",
    "crop_production[\"Crop\"] = crop_production[\"Crop\"].str.strip().str.lower()\n",
    "crop_prices[\"Crop\"] = crop_prices[\"Crop\"].str.strip().str.lower()"
   ]
  },
  {
   "cell_type": "code",
   "execution_count": 34,
   "id": "c5906ede",
   "metadata": {},
   "outputs": [
    {
     "name": "stdout",
     "output_type": "stream",
     "text": [
      "\n",
      "--- Crop Production ---\n",
      "<class 'pandas.core.frame.DataFrame'>\n",
      "RangeIndex: 5 entries, 0 to 4\n",
      "Data columns (total 6 columns):\n",
      " #   Column            Non-Null Count  Dtype \n",
      "---  ------            --------------  ----- \n",
      " 0   State             5 non-null      object\n",
      " 1   District          5 non-null      object\n",
      " 2   Crop              5 non-null      object\n",
      " 3   Year              5 non-null      int64 \n",
      " 4   Area (Ha)         5 non-null      int64 \n",
      " 5   Production (Ton)  5 non-null      int64 \n",
      "dtypes: int64(3), object(3)\n",
      "memory usage: 372.0+ bytes\n",
      "None\n",
      "State               0\n",
      "District            0\n",
      "Crop                0\n",
      "Year                0\n",
      "Area (Ha)           0\n",
      "Production (Ton)    0\n",
      "dtype: int64\n",
      "              Year    Area (Ha)  Production (Ton)\n",
      "count     5.000000     5.000000          5.000000\n",
      "mean   2020.400000  2620.000000       7880.000000\n",
      "std       0.547723   664.830806       3433.948165\n",
      "min    2020.000000  1500.000000       4000.000000\n",
      "25%    2020.000000  2600.000000       5400.000000\n",
      "50%    2020.000000  2800.000000       7200.000000\n",
      "75%    2021.000000  3000.000000      10800.000000\n",
      "max    2021.000000  3200.000000      12000.000000\n"
     ]
    }
   ],
   "source": [
    "print(\"\\n--- Crop Production ---\")\n",
    "print(crop_production.info())\n",
    "print(crop_production.isnull().sum())\n",
    "print(crop_production.describe())"
   ]
  },
  {
   "cell_type": "code",
   "execution_count": 35,
   "id": "fc2adfd4",
   "metadata": {},
   "outputs": [],
   "source": [
    "crop_production = crop_production.dropna(subset=[\"Area (Ha)\", \"Production (Ton)\"])\n",
    "crop_production = crop_production[crop_production[\"Area (Ha)\"] > 0]\n",
    "crop_production = crop_production[crop_production[\"Production (Ton)\"] > 0] "
   ]
  },
  {
   "cell_type": "code",
   "execution_count": 36,
   "id": "33739311",
   "metadata": {},
   "outputs": [
    {
     "name": "stdout",
     "output_type": "stream",
     "text": [
      "Area (Ha)           0\n",
      "Production (Ton)    0\n",
      "dtype: int64\n",
      "0\n",
      "0\n"
     ]
    }
   ],
   "source": [
    "print(crop_production[[\"Area (Ha)\", \"Production (Ton)\"]].isnull().sum())\n",
    "print((crop_production[\"Area (Ha)\"] <= 0).sum())\n",
    "print((crop_production[\"Production (Ton)\"] <= 0).sum())"
   ]
  },
  {
   "cell_type": "code",
   "execution_count": 37,
   "id": "4d912dd5",
   "metadata": {},
   "outputs": [
    {
     "data": {
      "text/html": [
       "<div>\n",
       "<style scoped>\n",
       "    .dataframe tbody tr th:only-of-type {\n",
       "        vertical-align: middle;\n",
       "    }\n",
       "\n",
       "    .dataframe tbody tr th {\n",
       "        vertical-align: top;\n",
       "    }\n",
       "\n",
       "    .dataframe thead th {\n",
       "        text-align: right;\n",
       "    }\n",
       "</style>\n",
       "<table border=\"1\" class=\"dataframe\">\n",
       "  <thead>\n",
       "    <tr style=\"text-align: right;\">\n",
       "      <th></th>\n",
       "      <th>State</th>\n",
       "      <th>District</th>\n",
       "      <th>Crop</th>\n",
       "      <th>Year</th>\n",
       "      <th>Area (Ha)</th>\n",
       "      <th>Production (Ton)</th>\n",
       "    </tr>\n",
       "  </thead>\n",
       "  <tbody>\n",
       "    <tr>\n",
       "      <th>0</th>\n",
       "      <td>Maharashtra</td>\n",
       "      <td>pune</td>\n",
       "      <td>wheat</td>\n",
       "      <td>2020</td>\n",
       "      <td>3000</td>\n",
       "      <td>7200</td>\n",
       "    </tr>\n",
       "    <tr>\n",
       "      <th>1</th>\n",
       "      <td>Maharashtra</td>\n",
       "      <td>nashik</td>\n",
       "      <td>bajra</td>\n",
       "      <td>2020</td>\n",
       "      <td>2800</td>\n",
       "      <td>5400</td>\n",
       "    </tr>\n",
       "    <tr>\n",
       "      <th>2</th>\n",
       "      <td>Punjab</td>\n",
       "      <td>ludhiana</td>\n",
       "      <td>rice</td>\n",
       "      <td>2020</td>\n",
       "      <td>3200</td>\n",
       "      <td>10800</td>\n",
       "    </tr>\n",
       "    <tr>\n",
       "      <th>3</th>\n",
       "      <td>Karnataka</td>\n",
       "      <td>mysore</td>\n",
       "      <td>ragi</td>\n",
       "      <td>2021</td>\n",
       "      <td>2600</td>\n",
       "      <td>4000</td>\n",
       "    </tr>\n",
       "    <tr>\n",
       "      <th>4</th>\n",
       "      <td>Uttar Pradesh</td>\n",
       "      <td>meerut</td>\n",
       "      <td>sugarcane</td>\n",
       "      <td>2021</td>\n",
       "      <td>1500</td>\n",
       "      <td>12000</td>\n",
       "    </tr>\n",
       "  </tbody>\n",
       "</table>\n",
       "</div>"
      ],
      "text/plain": [
       "           State  District       Crop  Year  Area (Ha)  Production (Ton)\n",
       "0    Maharashtra      pune      wheat  2020       3000              7200\n",
       "1    Maharashtra    nashik      bajra  2020       2800              5400\n",
       "2         Punjab  ludhiana       rice  2020       3200             10800\n",
       "3      Karnataka    mysore       ragi  2021       2600              4000\n",
       "4  Uttar Pradesh    meerut  sugarcane  2021       1500             12000"
      ]
     },
     "execution_count": 37,
     "metadata": {},
     "output_type": "execute_result"
    }
   ],
   "source": [
    "crop_production.head()"
   ]
  },
  {
   "cell_type": "code",
   "execution_count": 38,
   "id": "df3e3fd9",
   "metadata": {},
   "outputs": [
    {
     "name": "stdout",
     "output_type": "stream",
     "text": [
      "\n",
      "--- Soil Data ---\n",
      "<class 'pandas.core.frame.DataFrame'>\n",
      "RangeIndex: 5 entries, 0 to 4\n",
      "Data columns (total 6 columns):\n",
      " #   Column     Non-Null Count  Dtype  \n",
      "---  ------     --------------  -----  \n",
      " 0   District   5 non-null      object \n",
      " 1   Soil_Type  5 non-null      object \n",
      " 2   pH         5 non-null      float64\n",
      " 3   N (mg/kg)  5 non-null      int64  \n",
      " 4   P (mg/kg)  5 non-null      int64  \n",
      " 5   K (mg/kg)  5 non-null      int64  \n",
      "dtypes: float64(1), int64(3), object(2)\n",
      "memory usage: 372.0+ bytes\n",
      "None\n",
      "District     0\n",
      "Soil_Type    0\n",
      "pH           0\n",
      "N (mg/kg)    0\n",
      "P (mg/kg)    0\n",
      "K (mg/kg)    0\n",
      "dtype: int64\n"
     ]
    }
   ],
   "source": [
    "print(\"\\n--- Soil Data ---\")\n",
    "print(soil_data.info())\n",
    "print(soil_data.isnull().sum())"
   ]
  },
  {
   "cell_type": "code",
   "execution_count": 39,
   "id": "b3efc2b1",
   "metadata": {},
   "outputs": [],
   "source": [
    "soil_data = soil_data.dropna(subset=[\"pH\", \"N (mg/kg)\", \"P (mg/kg)\", \"K (mg/kg)\"])"
   ]
  },
  {
   "cell_type": "code",
   "execution_count": 40,
   "id": "a10c8b1d",
   "metadata": {},
   "outputs": [
    {
     "name": "stdout",
     "output_type": "stream",
     "text": [
      "\n",
      "--- After Cleaning ---\n",
      "District     0\n",
      "Soil_Type    0\n",
      "pH           0\n",
      "N (mg/kg)    0\n",
      "P (mg/kg)    0\n",
      "K (mg/kg)    0\n",
      "dtype: int64\n"
     ]
    },
    {
     "data": {
      "text/html": [
       "<div>\n",
       "<style scoped>\n",
       "    .dataframe tbody tr th:only-of-type {\n",
       "        vertical-align: middle;\n",
       "    }\n",
       "\n",
       "    .dataframe tbody tr th {\n",
       "        vertical-align: top;\n",
       "    }\n",
       "\n",
       "    .dataframe thead th {\n",
       "        text-align: right;\n",
       "    }\n",
       "</style>\n",
       "<table border=\"1\" class=\"dataframe\">\n",
       "  <thead>\n",
       "    <tr style=\"text-align: right;\">\n",
       "      <th></th>\n",
       "      <th>District</th>\n",
       "      <th>Soil_Type</th>\n",
       "      <th>pH</th>\n",
       "      <th>N (mg/kg)</th>\n",
       "      <th>P (mg/kg)</th>\n",
       "      <th>K (mg/kg)</th>\n",
       "    </tr>\n",
       "  </thead>\n",
       "  <tbody>\n",
       "    <tr>\n",
       "      <th>0</th>\n",
       "      <td>pune</td>\n",
       "      <td>Black Cotton</td>\n",
       "      <td>6.5</td>\n",
       "      <td>250</td>\n",
       "      <td>45</td>\n",
       "      <td>300</td>\n",
       "    </tr>\n",
       "    <tr>\n",
       "      <th>1</th>\n",
       "      <td>nashik</td>\n",
       "      <td>Red Soil</td>\n",
       "      <td>6.2</td>\n",
       "      <td>180</td>\n",
       "      <td>30</td>\n",
       "      <td>250</td>\n",
       "    </tr>\n",
       "    <tr>\n",
       "      <th>2</th>\n",
       "      <td>ludhiana</td>\n",
       "      <td>Alluvial</td>\n",
       "      <td>7.1</td>\n",
       "      <td>270</td>\n",
       "      <td>50</td>\n",
       "      <td>320</td>\n",
       "    </tr>\n",
       "    <tr>\n",
       "      <th>3</th>\n",
       "      <td>mysore</td>\n",
       "      <td>Laterite</td>\n",
       "      <td>6.8</td>\n",
       "      <td>190</td>\n",
       "      <td>40</td>\n",
       "      <td>280</td>\n",
       "    </tr>\n",
       "    <tr>\n",
       "      <th>4</th>\n",
       "      <td>meerut</td>\n",
       "      <td>Clay Loam</td>\n",
       "      <td>7.0</td>\n",
       "      <td>220</td>\n",
       "      <td>35</td>\n",
       "      <td>290</td>\n",
       "    </tr>\n",
       "  </tbody>\n",
       "</table>\n",
       "</div>"
      ],
      "text/plain": [
       "   District     Soil_Type   pH  N (mg/kg)  P (mg/kg)  K (mg/kg)\n",
       "0      pune  Black Cotton  6.5        250         45        300\n",
       "1    nashik      Red Soil  6.2        180         30        250\n",
       "2  ludhiana      Alluvial  7.1        270         50        320\n",
       "3    mysore      Laterite  6.8        190         40        280\n",
       "4    meerut     Clay Loam  7.0        220         35        290"
      ]
     },
     "execution_count": 40,
     "metadata": {},
     "output_type": "execute_result"
    }
   ],
   "source": [
    "print(\"\\n--- After Cleaning ---\")\n",
    "print(soil_data.isnull().sum())\n",
    "soil_data.head()"
   ]
  },
  {
   "cell_type": "code",
   "execution_count": 41,
   "id": "ee17348c",
   "metadata": {},
   "outputs": [
    {
     "name": "stdout",
     "output_type": "stream",
     "text": [
      "\n",
      "--- Crop Prices ---\n",
      "<class 'pandas.core.frame.DataFrame'>\n",
      "RangeIndex: 5 entries, 0 to 4\n",
      "Data columns (total 3 columns):\n",
      " #   Column                        Non-Null Count  Dtype \n",
      "---  ------                        --------------  ----- \n",
      " 0   Year                          5 non-null      int64 \n",
      " 1   Crop                          5 non-null      object\n",
      " 2   Avg_Market_Price (₹/Quintal)  5 non-null      int64 \n",
      "dtypes: int64(2), object(1)\n",
      "memory usage: 252.0+ bytes\n",
      "None\n",
      "Year                            0\n",
      "Crop                            0\n",
      "Avg_Market_Price (₹/Quintal)    0\n",
      "dtype: int64\n"
     ]
    }
   ],
   "source": [
    "print(\"\\n--- Crop Prices ---\")\n",
    "print(crop_prices.info())\n",
    "print(crop_prices.isnull().sum())\n",
    "crop_prices = crop_prices.dropna(subset=[\"Avg_Market_Price (₹/Quintal)\"])"
   ]
  },
  {
   "cell_type": "code",
   "execution_count": 42,
   "id": "9bcf6d46",
   "metadata": {},
   "outputs": [
    {
     "name": "stdout",
     "output_type": "stream",
     "text": [
      "\n",
      "--- District Rainfall ---\n",
      "<class 'pandas.core.frame.DataFrame'>\n",
      "RangeIndex: 641 entries, 0 to 640\n",
      "Data columns (total 19 columns):\n",
      " #   Column         Non-Null Count  Dtype  \n",
      "---  ------         --------------  -----  \n",
      " 0   STATE_UT_NAME  641 non-null    object \n",
      " 1   DISTRICT       641 non-null    object \n",
      " 2   JAN            641 non-null    float64\n",
      " 3   FEB            641 non-null    float64\n",
      " 4   MAR            641 non-null    float64\n",
      " 5   APR            641 non-null    float64\n",
      " 6   MAY            641 non-null    float64\n",
      " 7   JUN            641 non-null    float64\n",
      " 8   JUL            641 non-null    float64\n",
      " 9   AUG            641 non-null    float64\n",
      " 10  SEP            641 non-null    float64\n",
      " 11  OCT            641 non-null    float64\n",
      " 12  NOV            641 non-null    float64\n",
      " 13  DEC            641 non-null    float64\n",
      " 14  ANNUAL         641 non-null    float64\n",
      " 15  Jan-Feb        641 non-null    float64\n",
      " 16  Mar-May        641 non-null    float64\n",
      " 17  Jun-Sep        641 non-null    float64\n",
      " 18  Oct-Dec        641 non-null    float64\n",
      "dtypes: float64(17), object(2)\n",
      "memory usage: 95.3+ KB\n",
      "None\n",
      "STATE_UT_NAME    0\n",
      "DISTRICT         0\n",
      "JAN              0\n",
      "FEB              0\n",
      "MAR              0\n",
      "APR              0\n",
      "MAY              0\n",
      "JUN              0\n",
      "JUL              0\n",
      "AUG              0\n",
      "SEP              0\n",
      "OCT              0\n",
      "NOV              0\n",
      "DEC              0\n",
      "ANNUAL           0\n",
      "Jan-Feb          0\n",
      "Mar-May          0\n",
      "Jun-Sep          0\n",
      "Oct-Dec          0\n",
      "dtype: int64\n"
     ]
    }
   ],
   "source": [
    "print(\"\\n--- District Rainfall ---\")\n",
    "print(district_rainfall.info())\n",
    "print(district_rainfall.isnull().sum())"
   ]
  },
  {
   "cell_type": "code",
   "execution_count": 43,
   "id": "f2caa790",
   "metadata": {},
   "outputs": [],
   "source": [
    "rainfall_clean = district_rainfall[[\"STATE_UT_NAME\", \"DISTRICT\", \"ANNUAL\"]].copy()\n",
    "rainfall_clean.rename(columns={\n",
    "    \"STATE_UT_NAME\": \"State\",\n",
    "    \"DISTRICT\": \"District\",\n",
    "    \"ANNUAL\": \"Annual_Rainfall_mm\"\n",
    "}, inplace=True)\n"
   ]
  },
  {
   "cell_type": "code",
   "execution_count": 44,
   "id": "6668116d",
   "metadata": {},
   "outputs": [
    {
     "name": "stdout",
     "output_type": "stream",
     "text": [
      "<class 'pandas.core.frame.DataFrame'>\n",
      "RangeIndex: 641 entries, 0 to 640\n",
      "Data columns (total 3 columns):\n",
      " #   Column              Non-Null Count  Dtype  \n",
      "---  ------              --------------  -----  \n",
      " 0   State               641 non-null    object \n",
      " 1   District            641 non-null    object \n",
      " 2   Annual_Rainfall_mm  641 non-null    float64\n",
      "dtypes: float64(1), object(2)\n",
      "memory usage: 15.2+ KB\n",
      "None\n",
      "State                 0\n",
      "District              0\n",
      "Annual_Rainfall_mm    0\n",
      "dtype: int64\n",
      "Index(['State', 'District', 'Annual_Rainfall_mm'], dtype='object')\n",
      "                         State       District  Annual_Rainfall_mm\n",
      "0  andaman and nicobar islands        nicobar              2805.2\n",
      "1  andaman and nicobar islands  south andaman              3015.7\n",
      "2  andaman and nicobar islands  n & m andaman              2913.3\n",
      "3            arunachal pradesh          lohit              3043.8\n",
      "4            arunachal pradesh     east siang              4034.7\n"
     ]
    }
   ],
   "source": [
    "print(rainfall_clean.info())\n",
    "print(rainfall_clean.isnull().sum())\n",
    "print(rainfall_clean.columns)\n",
    "print(rainfall_clean.head())"
   ]
  },
  {
   "cell_type": "code",
   "execution_count": 45,
   "id": "6d3370ba",
   "metadata": {},
   "outputs": [],
   "source": [
    "crop_production[\"Yield_Ton_per_Ha\"] = crop_production[\"Production (Ton)\"] / crop_production[\"Area (Ha)\"]"
   ]
  },
  {
   "cell_type": "code",
   "execution_count": 46,
   "id": "428297f5",
   "metadata": {},
   "outputs": [
    {
     "name": "stdout",
     "output_type": "stream",
     "text": [
      "   Production (Ton)  Area (Ha)  Yield_Ton_per_Ha\n",
      "0              7200       3000          2.400000\n",
      "1              5400       2800          1.928571\n",
      "2             10800       3200          3.375000\n",
      "3              4000       2600          1.538462\n",
      "4             12000       1500          8.000000\n"
     ]
    }
   ],
   "source": [
    "print(crop_production[[\"Production (Ton)\", \"Area (Ha)\", \"Yield_Ton_per_Ha\"]].head())"
   ]
  },
  {
   "cell_type": "code",
   "execution_count": 47,
   "id": "7698a5a1",
   "metadata": {},
   "outputs": [
    {
     "name": "stdout",
     "output_type": "stream",
     "text": [
      "0\n",
      "0\n"
     ]
    }
   ],
   "source": [
    "print(crop_production[\"Yield_Ton_per_Ha\"].isnull().sum())\n",
    "print(np.isinf(crop_production[\"Yield_Ton_per_Ha\"]).sum())"
   ]
  },
  {
   "cell_type": "code",
   "execution_count": 48,
   "id": "fabe6c8b",
   "metadata": {},
   "outputs": [
    {
     "name": "stdout",
     "output_type": "stream",
     "text": [
      "count    5.000000\n",
      "mean     3.448407\n",
      "std      2.635305\n",
      "min      1.538462\n",
      "25%      1.928571\n",
      "50%      2.400000\n",
      "75%      3.375000\n",
      "max      8.000000\n",
      "Name: Yield_Ton_per_Ha, dtype: float64\n"
     ]
    }
   ],
   "source": [
    "print(crop_production[\"Yield_Ton_per_Ha\"].describe())\n"
   ]
  },
  {
   "cell_type": "code",
   "execution_count": 56,
   "id": "973bc787",
   "metadata": {},
   "outputs": [
    {
     "data": {
      "text/plain": [
       "<Axes: xlabel='Yield_Ton_per_Ha', ylabel='Count'>"
      ]
     },
     "execution_count": 56,
     "metadata": {},
     "output_type": "execute_result"
    },
    {
     "data": {
      "image/png": "[encoded data removed]",
      "text/plain": [
       "<Figure size 640x480 with 1 Axes>"
      ]
     },
     "metadata": {},
     "output_type": "display_data"
    }
   ],
   "source": [
    "sns.histplot(crop_production[\"Yield_Ton_per_Ha\"], kde=True)"
   ]
  },
  {
   "cell_type": "code",
   "execution_count": 50,
   "id": "12e2eaff",
   "metadata": {},
   "outputs": [
    {
     "data": {
      "text/plain": [
       "<Axes: xlabel='Crop', ylabel='Yield_Ton_per_Ha'>"
      ]
     },
     "execution_count": 50,
     "metadata": {},
     "output_type": "execute_result"
    },
    {
     "data": {
      "image/png": "[encoded data removed]",
      "text/plain": [
       "<Figure size 640x480 with 1 Axes>"
      ]
     },
     "metadata": {},
     "output_type": "display_data"
    }
   ],
   "source": [
    "sns.boxplot(x=\"Crop\", y=\"Yield_Ton_per_Ha\", data=crop_production)\n"
   ]
  },
  {
   "cell_type": "code",
   "execution_count": 51,
   "id": "09903f5b",
   "metadata": {},
   "outputs": [],
   "source": [
    "soil_rainfall_merged = pd.merge(soil_data, rainfall_clean, on=\"District\", how=\"left\")"
   ]
  },
  {
   "cell_type": "code",
   "execution_count": 52,
   "id": "e8f1d482",
   "metadata": {},
   "outputs": [
    {
     "data": {
      "text/html": [
       "<div>\n",
       "<style scoped>\n",
       "    .dataframe tbody tr th:only-of-type {\n",
       "        vertical-align: middle;\n",
       "    }\n",
       "\n",
       "    .dataframe tbody tr th {\n",
       "        vertical-align: top;\n",
       "    }\n",
       "\n",
       "    .dataframe thead th {\n",
       "        text-align: right;\n",
       "    }\n",
       "</style>\n",
       "<table border=\"1\" class=\"dataframe\">\n",
       "  <thead>\n",
       "    <tr style=\"text-align: right;\">\n",
       "      <th></th>\n",
       "      <th>District</th>\n",
       "      <th>Soil_Type</th>\n",
       "      <th>pH</th>\n",
       "      <th>N (mg/kg)</th>\n",
       "      <th>P (mg/kg)</th>\n",
       "      <th>K (mg/kg)</th>\n",
       "      <th>State</th>\n",
       "      <th>Annual_Rainfall_mm</th>\n",
       "    </tr>\n",
       "  </thead>\n",
       "  <tbody>\n",
       "    <tr>\n",
       "      <th>0</th>\n",
       "      <td>pune</td>\n",
       "      <td>Black Cotton</td>\n",
       "      <td>6.5</td>\n",
       "      <td>250</td>\n",
       "      <td>45</td>\n",
       "      <td>300</td>\n",
       "      <td>maharashtra</td>\n",
       "      <td>1015.7</td>\n",
       "    </tr>\n",
       "    <tr>\n",
       "      <th>1</th>\n",
       "      <td>nashik</td>\n",
       "      <td>Red Soil</td>\n",
       "      <td>6.2</td>\n",
       "      <td>180</td>\n",
       "      <td>30</td>\n",
       "      <td>250</td>\n",
       "      <td>maharashtra</td>\n",
       "      <td>1029.6</td>\n",
       "    </tr>\n",
       "    <tr>\n",
       "      <th>2</th>\n",
       "      <td>ludhiana</td>\n",
       "      <td>Alluvial</td>\n",
       "      <td>7.1</td>\n",
       "      <td>270</td>\n",
       "      <td>50</td>\n",
       "      <td>320</td>\n",
       "      <td>punjab</td>\n",
       "      <td>685.6</td>\n",
       "    </tr>\n",
       "    <tr>\n",
       "      <th>3</th>\n",
       "      <td>mysore</td>\n",
       "      <td>Laterite</td>\n",
       "      <td>6.8</td>\n",
       "      <td>190</td>\n",
       "      <td>40</td>\n",
       "      <td>280</td>\n",
       "      <td>karnataka</td>\n",
       "      <td>758.6</td>\n",
       "    </tr>\n",
       "    <tr>\n",
       "      <th>4</th>\n",
       "      <td>meerut</td>\n",
       "      <td>Clay Loam</td>\n",
       "      <td>7.0</td>\n",
       "      <td>220</td>\n",
       "      <td>35</td>\n",
       "      <td>290</td>\n",
       "      <td>uttar pradesh</td>\n",
       "      <td>918.0</td>\n",
       "    </tr>\n",
       "  </tbody>\n",
       "</table>\n",
       "</div>"
      ],
      "text/plain": [
       "   District     Soil_Type   pH  ...  K (mg/kg)          State  Annual_Rainfall_mm\n",
       "0      pune  Black Cotton  6.5  ...        300    maharashtra              1015.7\n",
       "1    nashik      Red Soil  6.2  ...        250    maharashtra              1029.6\n",
       "2  ludhiana      Alluvial  7.1  ...        320         punjab               685.6\n",
       "3    mysore      Laterite  6.8  ...        280      karnataka               758.6\n",
       "4    meerut     Clay Loam  7.0  ...        290  uttar pradesh               918.0\n",
       "\n",
       "[5 rows x 8 columns]"
      ]
     },
     "execution_count": 52,
     "metadata": {},
     "output_type": "execute_result"
    }
   ],
   "source": [
    "soil_rainfall_merged.head()\n"
   ]
  },
  {
   "cell_type": "code",
   "execution_count": 53,
   "id": "5fc2f556",
   "metadata": {},
   "outputs": [
    {
     "name": "stdout",
     "output_type": "stream",
     "text": [
      "0\n"
     ]
    }
   ],
   "source": [
    "print(soil_rainfall_merged[\"Annual_Rainfall_mm\"].isnull().sum())"
   ]
  },
  {
   "cell_type": "code",
   "execution_count": 55,
   "id": "54754728",
   "metadata": {},
   "outputs": [],
   "source": [
    "crop_with_soil = pd.merge(crop_production, soil_rainfall_merged, on=\"District\", how=\"left\")"
   ]
  },
  {
   "cell_type": "code",
   "execution_count": 57,
   "id": "44f66e7c",
   "metadata": {},
   "outputs": [
    {
     "name": "stdout",
     "output_type": "stream",
     "text": [
      "State_x               0\n",
      "District              0\n",
      "Crop                  0\n",
      "Year                  0\n",
      "Area (Ha)             0\n",
      "Production (Ton)      0\n",
      "Yield_Ton_per_Ha      0\n",
      "Soil_Type             0\n",
      "pH                    0\n",
      "N (mg/kg)             0\n",
      "P (mg/kg)             0\n",
      "K (mg/kg)             0\n",
      "State_y               0\n",
      "Annual_Rainfall_mm    0\n",
      "dtype: int64\n"
     ]
    }
   ],
   "source": [
    "print(crop_with_soil.isnull().sum())"
   ]
  },
  {
   "cell_type": "code",
   "execution_count": 58,
   "id": "fb24819d",
   "metadata": {},
   "outputs": [],
   "source": [
    "crop_with_soil = crop_with_soil.dropna(subset=[\"pH\", \"N (mg/kg)\", \"P (mg/kg)\", \"K (mg/kg)\", \"Annual_Rainfall_mm\"])"
   ]
  },
  {
   "cell_type": "code",
   "execution_count": 59,
   "id": "21208c9a",
   "metadata": {},
   "outputs": [
    {
     "data": {
      "image/png": "[encoded data removed]",
      "text/plain": [
       "<Figure size 1500x1500 with 42 Axes>"
      ]
     },
     "metadata": {},
     "output_type": "display_data"
    }
   ],
   "source": [
    "sns.pairplot(crop_with_soil, vars=[\"pH\", \"N (mg/kg)\", \"P (mg/kg)\", \"K (mg/kg)\", \"Annual_Rainfall_mm\", \"Yield_Ton_per_Ha\"])\n",
    "plt.show()"
   ]
  },
  {
   "cell_type": "code",
   "execution_count": 60,
   "id": "f6738466",
   "metadata": {},
   "outputs": [],
   "source": [
    "features = crop_with_soil[[\"pH\", \"N (mg/kg)\", \"P (mg/kg)\", \"K (mg/kg)\", \"Annual_Rainfall_mm\"]]\n",
    "target = crop_with_soil[\"Yield_Ton_per_Ha\"]"
   ]
  },
  {
   "cell_type": "code",
   "execution_count": 61,
   "id": "b870d923",
   "metadata": {},
   "outputs": [],
   "source": [
    "X_train, X_test, y_train, y_test = train_test_split(features, target, test_size=0.2, random_state=42)"
   ]
  },
  {
   "cell_type": "code",
   "execution_count": 62,
   "id": "d586a125",
   "metadata": {},
   "outputs": [
    {
     "data": {
      "text/html": [
       "<style>#sk-container-id-1 {\n",
       "  /* Definition of color scheme common for light and dark mode */\n",
       "  --sklearn-color-text: #000;\n",
       "  --sklearn-color-text-muted: #666;\n",
       "  --sklearn-color-line: gray;\n",
       "  /* Definition of color scheme for unfitted estimators */\n",
       "  --sklearn-color-unfitted-level-0: #fff5e6;\n",
       "  --sklearn-color-unfitted-level-1: #f6e4d2;\n",
       "  --sklearn-color-unfitted-level-2: #ffe0b3;\n",
       "  --sklearn-color-unfitted-level-3: chocolate;\n",
       "  /* Definition of color scheme for fitted estimators */\n",
       "  --sklearn-color-fitted-level-0: #f0f8ff;\n",
       "  --sklearn-color-fitted-level-1: #d4ebff;\n",
       "  --sklearn-color-fitted-level-2: #b3dbfd;\n",
       "  --sklearn-color-fitted-level-3: cornflowerblue;\n",
       "\n",
       "  /* Specific color for light theme */\n",
       "  --sklearn-color-text-on-default-background: var(--sg-text-color, var(--theme-code-foreground, var(--jp-content-font-color1, black)));\n",
       "  --sklearn-color-background: var(--sg-background-color, var(--theme-background, var(--jp-layout-color0, white)));\n",
       "  --sklearn-color-border-box: var(--sg-text-color, var(--theme-code-foreground, var(--jp-content-font-color1, black)));\n",
       "  --sklearn-color-icon: #696969;\n",
       "\n",
       "  @media (prefers-color-scheme: dark) {\n",
       "    /* Redefinition of color scheme for dark theme */\n",
       "    --sklearn-color-text-on-default-background: var(--sg-text-color, var(--theme-code-foreground, var(--jp-content-font-color1, white)));\n",
       "    --sklearn-color-background: var(--sg-background-color, var(--theme-background, var(--jp-layout-color0, #111)));\n",
       "    --sklearn-color-border-box: var(--sg-text-color, var(--theme-code-foreground, var(--jp-content-font-color1, white)));\n",
       "    --sklearn-color-icon: #878787;\n",
       "  }\n",
       "}\n",
       "\n",
       "#sk-container-id-1 {\n",
       "  color: var(--sklearn-color-text);\n",
       "}\n",
       "\n",
       "#sk-container-id-1 pre {\n",
       "  padding: 0;\n",
       "}\n",
       "\n",
       "#sk-container-id-1 input.sk-hidden--visually {\n",
       "  border: 0;\n",
       "  clip: rect(1px 1px 1px 1px);\n",
       "  clip: rect(1px, 1px, 1px, 1px);\n",
       "  height: 1px;\n",
       "  margin: -1px;\n",
       "  overflow: hidden;\n",
       "  padding: 0;\n",
       "  position: absolute;\n",
       "  width: 1px;\n",
       "}\n",
       "\n",
       "#sk-container-id-1 div.sk-dashed-wrapped {\n",
       "  border: 1px dashed var(--sklearn-color-line);\n",
       "  margin: 0 0.4em 0.5em 0.4em;\n",
       "  box-sizing: border-box;\n",
       "  padding-bottom: 0.4em;\n",
       "  background-color: var(--sklearn-color-background);\n",
       "}\n",
       "\n",
       "#sk-container-id-1 div.sk-container {\n",
       "  /* jupyter's `normalize.less` sets `[hidden] { display: none; }`\n",
       "     but bootstrap.min.css set `[hidden] { display: none !important; }`\n",
       "     so we also need the `!important` here to be able to override the\n",
       "     default hidden behavior on the sphinx rendered scikit-learn.org.\n",
       "     See: https://github.com/scikit-learn/scikit-learn/issues/21755 */\n",
       "  display: inline-block !important;\n",
       "  position: relative;\n",
       "}\n",
       "\n",
       "#sk-container-id-1 div.sk-text-repr-fallback {\n",
       "  display: none;\n",
       "}\n",
       "\n",
       "div.sk-parallel-item,\n",
       "div.sk-serial,\n",
       "div.sk-item {\n",
       "  /* draw centered vertical line to link estimators */\n",
       "  background-image: linear-gradient(var(--sklearn-color-text-on-default-background), var(--sklearn-color-text-on-default-background));\n",
       "  background-size: 2px 100%;\n",
       "  background-repeat: no-repeat;\n",
       "  background-position: center center;\n",
       "}\n",
       "\n",
       "/* Parallel-specific style estimator block */\n",
       "\n",
       "#sk-container-id-1 div.sk-parallel-item::after {\n",
       "  content: \"\";\n",
       "  width: 100%;\n",
       "  border-bottom: 2px solid var(--sklearn-color-text-on-default-background);\n",
       "  flex-grow: 1;\n",
       "}\n",
       "\n",
       "#sk-container-id-1 div.sk-parallel {\n",
       "  display: flex;\n",
       "  align-items: stretch;\n",
       "  justify-content: center;\n",
       "  background-color: var(--sklearn-color-background);\n",
       "  position: relative;\n",
       "}\n",
       "\n",
       "#sk-container-id-1 div.sk-parallel-item {\n",
       "  display: flex;\n",
       "  flex-direction: column;\n",
       "}\n",
       "\n",
       "#sk-container-id-1 div.sk-parallel-item:first-child::after {\n",
       "  align-self: flex-end;\n",
       "  width: 50%;\n",
       "}\n",
       "\n",
       "#sk-container-id-1 div.sk-parallel-item:last-child::after {\n",
       "  align-self: flex-start;\n",
       "  width: 50%;\n",
       "}\n",
       "\n",
       "#sk-container-id-1 div.sk-parallel-item:only-child::after {\n",
       "  width: 0;\n",
       "}\n",
       "\n",
       "/* Serial-specific style estimator block */\n",
       "\n",
       "#sk-container-id-1 div.sk-serial {\n",
       "  display: flex;\n",
       "  flex-direction: column;\n",
       "  align-items: center;\n",
       "  background-color: var(--sklearn-color-background);\n",
       "  padding-right: 1em;\n",
       "  padding-left: 1em;\n",
       "}\n",
       "\n",
       "\n",
       "/* Toggleable style: style used for estimator/Pipeline/ColumnTransformer box that is\n",
       "clickable and can be expanded/collapsed.\n",
       "- Pipeline and ColumnTransformer use this feature and define the default style\n",
       "- Estimators will overwrite some part of the style using the `sk-estimator` class\n",
       "*/\n",
       "\n",
       "/* Pipeline and ColumnTransformer style (default) */\n",
       "\n",
       "#sk-container-id-1 div.sk-toggleable {\n",
       "  /* Default theme specific background. It is overwritten whether we have a\n",
       "  specific estimator or a Pipeline/ColumnTransformer */\n",
       "  background-color: var(--sklearn-color-background);\n",
       "}\n",
       "\n",
       "/* Toggleable label */\n",
       "#sk-container-id-1 label.sk-toggleable__label {\n",
       "  cursor: pointer;\n",
       "  display: flex;\n",
       "  width: 100%;\n",
       "  margin-bottom: 0;\n",
       "  padding: 0.5em;\n",
       "  box-sizing: border-box;\n",
       "  text-align: center;\n",
       "  align-items: start;\n",
       "  justify-content: space-between;\n",
       "  gap: 0.5em;\n",
       "}\n",
       "\n",
       "#sk-container-id-1 label.sk-toggleable__label .caption {\n",
       "  font-size: 0.6rem;\n",
       "  font-weight: lighter;\n",
       "  color: var(--sklearn-color-text-muted);\n",
       "}\n",
       "\n",
       "#sk-container-id-1 label.sk-toggleable__label-arrow:before {\n",
       "  /* Arrow on the left of the label */\n",
       "  content: \"▸\";\n",
       "  float: left;\n",
       "  margin-right: 0.25em;\n",
       "  color: var(--sklearn-color-icon);\n",
       "}\n",
       "\n",
       "#sk-container-id-1 label.sk-toggleable__label-arrow:hover:before {\n",
       "  color: var(--sklearn-color-text);\n",
       "}\n",
       "\n",
       "/* Toggleable content - dropdown */\n",
       "\n",
       "#sk-container-id-1 div.sk-toggleable__content {\n",
       "  display: none;\n",
       "  text-align: left;\n",
       "  /* unfitted */\n",
       "  background-color: var(--sklearn-color-unfitted-level-0);\n",
       "}\n",
       "\n",
       "#sk-container-id-1 div.sk-toggleable__content.fitted {\n",
       "  /* fitted */\n",
       "  background-color: var(--sklearn-color-fitted-level-0);\n",
       "}\n",
       "\n",
       "#sk-container-id-1 div.sk-toggleable__content pre {\n",
       "  margin: 0.2em;\n",
       "  border-radius: 0.25em;\n",
       "  color: var(--sklearn-color-text);\n",
       "  /* unfitted */\n",
       "  background-color: var(--sklearn-color-unfitted-level-0);\n",
       "}\n",
       "\n",
       "#sk-container-id-1 div.sk-toggleable__content.fitted pre {\n",
       "  /* unfitted */\n",
       "  background-color: var(--sklearn-color-fitted-level-0);\n",
       "}\n",
       "\n",
       "#sk-container-id-1 input.sk-toggleable__control:checked~div.sk-toggleable__content {\n",
       "  /* Expand drop-down */\n",
       "  display: block;\n",
       "  width: 100%;\n",
       "  overflow: visible;\n",
       "}\n",
       "\n",
       "#sk-container-id-1 input.sk-toggleable__control:checked~label.sk-toggleable__label-arrow:before {\n",
       "  content: \"▾\";\n",
       "}\n",
       "\n",
       "/* Pipeline/ColumnTransformer-specific style */\n",
       "\n",
       "#sk-container-id-1 div.sk-label input.sk-toggleable__control:checked~label.sk-toggleable__label {\n",
       "  color: var(--sklearn-color-text);\n",
       "  background-color: var(--sklearn-color-unfitted-level-2);\n",
       "}\n",
       "\n",
       "#sk-container-id-1 div.sk-label.fitted input.sk-toggleable__control:checked~label.sk-toggleable__label {\n",
       "  background-color: var(--sklearn-color-fitted-level-2);\n",
       "}\n",
       "\n",
       "/* Estimator-specific style */\n",
       "\n",
       "/* Colorize estimator box */\n",
       "#sk-container-id-1 div.sk-estimator input.sk-toggleable__control:checked~label.sk-toggleable__label {\n",
       "  /* unfitted */\n",
       "  background-color: var(--sklearn-color-unfitted-level-2);\n",
       "}\n",
       "\n",
       "#sk-container-id-1 div.sk-estimator.fitted input.sk-toggleable__control:checked~label.sk-toggleable__label {\n",
       "  /* fitted */\n",
       "  background-color: var(--sklearn-color-fitted-level-2);\n",
       "}\n",
       "\n",
       "#sk-container-id-1 div.sk-label label.sk-toggleable__label,\n",
       "#sk-container-id-1 div.sk-label label {\n",
       "  /* The background is the default theme color */\n",
       "  color: var(--sklearn-color-text-on-default-background);\n",
       "}\n",
       "\n",
       "/* On hover, darken the color of the background */\n",
       "#sk-container-id-1 div.sk-label:hover label.sk-toggleable__label {\n",
       "  color: var(--sklearn-color-text);\n",
       "  background-color: var(--sklearn-color-unfitted-level-2);\n",
       "}\n",
       "\n",
       "/* Label box, darken color on hover, fitted */\n",
       "#sk-container-id-1 div.sk-label.fitted:hover label.sk-toggleable__label.fitted {\n",
       "  color: var(--sklearn-color-text);\n",
       "  background-color: var(--sklearn-color-fitted-level-2);\n",
       "}\n",
       "\n",
       "/* Estimator label */\n",
       "\n",
       "#sk-container-id-1 div.sk-label label {\n",
       "  font-family: monospace;\n",
       "  font-weight: bold;\n",
       "  display: inline-block;\n",
       "  line-height: 1.2em;\n",
       "}\n",
       "\n",
       "#sk-container-id-1 div.sk-label-container {\n",
       "  text-align: center;\n",
       "}\n",
       "\n",
       "/* Estimator-specific */\n",
       "#sk-container-id-1 div.sk-estimator {\n",
       "  font-family: monospace;\n",
       "  border: 1px dotted var(--sklearn-color-border-box);\n",
       "  border-radius: 0.25em;\n",
       "  box-sizing: border-box;\n",
       "  margin-bottom: 0.5em;\n",
       "  /* unfitted */\n",
       "  background-color: var(--sklearn-color-unfitted-level-0);\n",
       "}\n",
       "\n",
       "#sk-container-id-1 div.sk-estimator.fitted {\n",
       "  /* fitted */\n",
       "  background-color: var(--sklearn-color-fitted-level-0);\n",
       "}\n",
       "\n",
       "/* on hover */\n",
       "#sk-container-id-1 div.sk-estimator:hover {\n",
       "  /* unfitted */\n",
       "  background-color: var(--sklearn-color-unfitted-level-2);\n",
       "}\n",
       "\n",
       "#sk-container-id-1 div.sk-estimator.fitted:hover {\n",
       "  /* fitted */\n",
       "  background-color: var(--sklearn-color-fitted-level-2);\n",
       "}\n",
       "\n",
       "/* Specification for estimator info (e.g. \"i\" and \"?\") */\n",
       "\n",
       "/* Common style for \"i\" and \"?\" */\n",
       "\n",
       ".sk-estimator-doc-link,\n",
       "a:link.sk-estimator-doc-link,\n",
       "a:visited.sk-estimator-doc-link {\n",
       "  float: right;\n",
       "  font-size: smaller;\n",
       "  line-height: 1em;\n",
       "  font-family: monospace;\n",
       "  background-color: var(--sklearn-color-background);\n",
       "  border-radius: 1em;\n",
       "  height: 1em;\n",
       "  width: 1em;\n",
       "  text-decoration: none !important;\n",
       "  margin-left: 0.5em;\n",
       "  text-align: center;\n",
       "  /* unfitted */\n",
       "  border: var(--sklearn-color-unfitted-level-1) 1pt solid;\n",
       "  color: var(--sklearn-color-unfitted-level-1);\n",
       "}\n",
       "\n",
       ".sk-estimator-doc-link.fitted,\n",
       "a:link.sk-estimator-doc-link.fitted,\n",
       "a:visited.sk-estimator-doc-link.fitted {\n",
       "  /* fitted */\n",
       "  border: var(--sklearn-color-fitted-level-1) 1pt solid;\n",
       "  color: var(--sklearn-color-fitted-level-1);\n",
       "}\n",
       "\n",
       "/* On hover */\n",
       "div.sk-estimator:hover .sk-estimator-doc-link:hover,\n",
       ".sk-estimator-doc-link:hover,\n",
       "div.sk-label-container:hover .sk-estimator-doc-link:hover,\n",
       ".sk-estimator-doc-link:hover {\n",
       "  /* unfitted */\n",
       "  background-color: var(--sklearn-color-unfitted-level-3);\n",
       "  color: var(--sklearn-color-background);\n",
       "  text-decoration: none;\n",
       "}\n",
       "\n",
       "div.sk-estimator.fitted:hover .sk-estimator-doc-link.fitted:hover,\n",
       ".sk-estimator-doc-link.fitted:hover,\n",
       "div.sk-label-container:hover .sk-estimator-doc-link.fitted:hover,\n",
       ".sk-estimator-doc-link.fitted:hover {\n",
       "  /* fitted */\n",
       "  background-color: var(--sklearn-color-fitted-level-3);\n",
       "  color: var(--sklearn-color-background);\n",
       "  text-decoration: none;\n",
       "}\n",
       "\n",
       "/* Span, style for the box shown on hovering the info icon */\n",
       ".sk-estimator-doc-link span {\n",
       "  display: none;\n",
       "  z-index: 9999;\n",
       "  position: relative;\n",
       "  font-weight: normal;\n",
       "  right: .2ex;\n",
       "  padding: .5ex;\n",
       "  margin: .5ex;\n",
       "  width: min-content;\n",
       "  min-width: 20ex;\n",
       "  max-width: 50ex;\n",
       "  color: var(--sklearn-color-text);\n",
       "  box-shadow: 2pt 2pt 4pt #999;\n",
       "  /* unfitted */\n",
       "  background: var(--sklearn-color-unfitted-level-0);\n",
       "  border: .5pt solid var(--sklearn-color-unfitted-level-3);\n",
       "}\n",
       "\n",
       ".sk-estimator-doc-link.fitted span {\n",
       "  /* fitted */\n",
       "  background: var(--sklearn-color-fitted-level-0);\n",
       "  border: var(--sklearn-color-fitted-level-3);\n",
       "}\n",
       "\n",
       ".sk-estimator-doc-link:hover span {\n",
       "  display: block;\n",
       "}\n",
       "\n",
       "/* \"?\"-specific style due to the `<a>` HTML tag */\n",
       "\n",
       "#sk-container-id-1 a.estimator_doc_link {\n",
       "  float: right;\n",
       "  font-size: 1rem;\n",
       "  line-height: 1em;\n",
       "  font-family: monospace;\n",
       "  background-color: var(--sklearn-color-background);\n",
       "  border-radius: 1rem;\n",
       "  height: 1rem;\n",
       "  width: 1rem;\n",
       "  text-decoration: none;\n",
       "  /* unfitted */\n",
       "  color: var(--sklearn-color-unfitted-level-1);\n",
       "  border: var(--sklearn-color-unfitted-level-1) 1pt solid;\n",
       "}\n",
       "\n",
       "#sk-container-id-1 a.estimator_doc_link.fitted {\n",
       "  /* fitted */\n",
       "  border: var(--sklearn-color-fitted-level-1) 1pt solid;\n",
       "  color: var(--sklearn-color-fitted-level-1);\n",
       "}\n",
       "\n",
       "/* On hover */\n",
       "#sk-container-id-1 a.estimator_doc_link:hover {\n",
       "  /* unfitted */\n",
       "  background-color: var(--sklearn-color-unfitted-level-3);\n",
       "  color: var(--sklearn-color-background);\n",
       "  text-decoration: none;\n",
       "}\n",
       "\n",
       "#sk-container-id-1 a.estimator_doc_link.fitted:hover {\n",
       "  /* fitted */\n",
       "  background-color: var(--sklearn-color-fitted-level-3);\n",
       "}\n",
       "\n",
       ".estimator-table summary {\n",
       "    padding: .5rem;\n",
       "    font-family: monospace;\n",
       "    cursor: pointer;\n",
       "}\n",
       "\n",
       ".estimator-table details[open] {\n",
       "    padding-left: 0.1rem;\n",
       "    padding-right: 0.1rem;\n",
       "    padding-bottom: 0.3rem;\n",
       "}\n",
       "\n",
       ".estimator-table .parameters-table {\n",
       "    margin-left: auto !important;\n",
       "    margin-right: auto !important;\n",
       "}\n",
       "\n",
       ".estimator-table .parameters-table tr:nth-child(odd) {\n",
       "    background-color: #fff;\n",
       "}\n",
       "\n",
       ".estimator-table .parameters-table tr:nth-child(even) {\n",
       "    background-color: #f6f6f6;\n",
       "}\n",
       "\n",
       ".estimator-table .parameters-table tr:hover {\n",
       "    background-color: #e0e0e0;\n",
       "}\n",
       "\n",
       ".estimator-table table td {\n",
       "    border: 1px solid rgba(106, 105, 104, 0.232);\n",
       "}\n",
       "\n",
       ".user-set td {\n",
       "    color:rgb(255, 94, 0);\n",
       "    text-align: left;\n",
       "}\n",
       "\n",
       ".user-set td.value pre {\n",
       "    color:rgb(255, 94, 0) !important;\n",
       "    background-color: transparent !important;\n",
       "}\n",
       "\n",
       ".default td {\n",
       "    color: black;\n",
       "    text-align: left;\n",
       "}\n",
       "\n",
       ".user-set td i,\n",
       ".default td i {\n",
       "    color: black;\n",
       "}\n",
       "\n",
       ".copy-paste-icon {\n",
       "    background-image: url(data:image/svg+xml;base64,PHN2ZyB4bWxucz0iaHR0cDovL3d3dy53My5vcmcvMjAwMC9zdmciIHZpZXdCb3g9IjAgMCA0NDggNTEyIj48IS0tIUZvbnQgQXdlc29tZSBGcmVlIDYuNy4yIGJ5IEBmb250YXdlc29tZSAtIGh0dHBzOi8vZm9udGF3ZXNvbWUuY29tIExpY2Vuc2UgLSBodHRwczovL2ZvbnRhd2Vzb21lLmNvbS9saWNlbnNlL2ZyZWUgQ29weXJpZ2h0IDIwMjUgRm9udGljb25zLCBJbmMuLS0+PHBhdGggZD0iTTIwOCAwTDMzMi4xIDBjMTIuNyAwIDI0LjkgNS4xIDMzLjkgMTQuMWw2Ny45IDY3LjljOSA5IDE0LjEgMjEuMiAxNC4xIDMzLjlMNDQ4IDMzNmMwIDI2LjUtMjEuNSA0OC00OCA0OGwtMTkyIDBjLTI2LjUgMC00OC0yMS41LTQ4LTQ4bDAtMjg4YzAtMjYuNSAyMS41LTQ4IDQ4LTQ4ek00OCAxMjhsODAgMCAwIDY0LTY0IDAgMCAyNTYgMTkyIDAgMC0zMiA2NCAwIDAgNDhjMCAyNi41LTIxLjUgNDgtNDggNDhMNDggNTEyYy0yNi41IDAtNDgtMjEuNS00OC00OEwwIDE3NmMwLTI2LjUgMjEuNS00OCA0OC00OHoiLz48L3N2Zz4=);\n",
       "    background-repeat: no-repeat;\n",
       "    background-size: 14px 14px;\n",
       "    background-position: 0;\n",
       "    display: inline-block;\n",
       "    width: 14px;\n",
       "    height: 14px;\n",
       "    cursor: pointer;\n",
       "}\n",
       "</style><body><div id=\"sk-container-id-1\" class=\"sk-top-container\"><div class=\"sk-text-repr-fallback\"><pre>LinearRegression()</pre><b>In a Jupyter environment, please rerun this cell to show the HTML representation or trust the notebook. <br />On GitHub, the HTML representation is unable to render, please try loading this page with nbviewer.org.</b></div><div class=\"sk-container\" hidden><div class=\"sk-item\"><div class=\"sk-estimator fitted sk-toggleable\"><input class=\"sk-toggleable__control sk-hidden--visually\" id=\"sk-estimator-id-1\" type=\"checkbox\" checked><label for=\"sk-estimator-id-1\" class=\"sk-toggleable__label fitted sk-toggleable__label-arrow\"><div><div>LinearRegression</div></div><div><a class=\"sk-estimator-doc-link fitted\" rel=\"noreferrer\" target=\"_blank\" href=\"https://scikit-learn.org/1.7/modules/generated/sklearn.linear_model.LinearRegression.html\">?<span>Documentation for LinearRegression</span></a><span class=\"sk-estimator-doc-link fitted\">i<span>Fitted</span></span></div></label><div class=\"sk-toggleable__content fitted\" data-param-prefix=\"\">\n",
       "        <div class=\"estimator-table\">\n",
       "            <details>\n",
       "                <summary>Parameters</summary>\n",
       "                <table class=\"parameters-table\">\n",
       "                  <tbody>\n",
       "                    \n",
       "        <tr class=\"default\">\n",
       "            <td><i class=\"copy-paste-icon\"\n",
       "                 onclick=\"copyToClipboard('fit_intercept',\n",
       "                          this.parentElement.nextElementSibling)\"\n",
       "            ></i></td>\n",
       "            <td class=\"param\">fit_intercept&nbsp;</td>\n",
       "            <td class=\"value\">True</td>\n",
       "        </tr>\n",
       "    \n",
       "\n",
       "        <tr class=\"default\">\n",
       "            <td><i class=\"copy-paste-icon\"\n",
       "                 onclick=\"copyToClipboard('copy_X',\n",
       "                          this.parentElement.nextElementSibling)\"\n",
       "            ></i></td>\n",
       "            <td class=\"param\">copy_X&nbsp;</td>\n",
       "            <td class=\"value\">True</td>\n",
       "        </tr>\n",
       "    \n",
       "\n",
       "        <tr class=\"default\">\n",
       "            <td><i class=\"copy-paste-icon\"\n",
       "                 onclick=\"copyToClipboard('tol',\n",
       "                          this.parentElement.nextElementSibling)\"\n",
       "            ></i></td>\n",
       "            <td class=\"param\">tol&nbsp;</td>\n",
       "            <td class=\"value\">1e-06</td>\n",
       "        </tr>\n",
       "    \n",
       "\n",
       "        <tr class=\"default\">\n",
       "            <td><i class=\"copy-paste-icon\"\n",
       "                 onclick=\"copyToClipboard('n_jobs',\n",
       "                          this.parentElement.nextElementSibling)\"\n",
       "            ></i></td>\n",
       "            <td class=\"param\">n_jobs&nbsp;</td>\n",
       "            <td class=\"value\">None</td>\n",
       "        </tr>\n",
       "    \n",
       "\n",
       "        <tr class=\"default\">\n",
       "            <td><i class=\"copy-paste-icon\"\n",
       "                 onclick=\"copyToClipboard('positive',\n",
       "                          this.parentElement.nextElementSibling)\"\n",
       "            ></i></td>\n",
       "            <td class=\"param\">positive&nbsp;</td>\n",
       "            <td class=\"value\">False</td>\n",
       "        </tr>\n",
       "    \n",
       "                  </tbody>\n",
       "                </table>\n",
       "            </details>\n",
       "        </div>\n",
       "    </div></div></div></div></div><script>function copyToClipboard(text, element) {\n",
       "    // Get the parameter prefix from the closest toggleable content\n",
       "    const toggleableContent = element.closest('.sk-toggleable__content');\n",
       "    const paramPrefix = toggleableContent ? toggleableContent.dataset.paramPrefix : '';\n",
       "    const fullParamName = paramPrefix ? `${paramPrefix}${text}` : text;\n",
       "\n",
       "    const originalStyle = element.style;\n",
       "    const computedStyle = window.getComputedStyle(element);\n",
       "    const originalWidth = computedStyle.width;\n",
       "    const originalHTML = element.innerHTML.replace('Copied!', '');\n",
       "\n",
       "    navigator.clipboard.writeText(fullParamName)\n",
       "        .then(() => {\n",
       "            element.style.width = originalWidth;\n",
       "            element.style.color = 'green';\n",
       "            element.innerHTML = \"Copied!\";\n",
       "\n",
       "            setTimeout(() => {\n",
       "                element.innerHTML = originalHTML;\n",
       "                element.style = originalStyle;\n",
       "            }, 2000);\n",
       "        })\n",
       "        .catch(err => {\n",
       "            console.error('Failed to copy:', err);\n",
       "            element.style.color = 'red';\n",
       "            element.innerHTML = \"Failed!\";\n",
       "            setTimeout(() => {\n",
       "                element.innerHTML = originalHTML;\n",
       "                element.style = originalStyle;\n",
       "            }, 2000);\n",
       "        });\n",
       "    return false;\n",
       "}\n",
       "\n",
       "document.querySelectorAll('.fa-regular.fa-copy').forEach(function(element) {\n",
       "    const toggleableContent = element.closest('.sk-toggleable__content');\n",
       "    const paramPrefix = toggleableContent ? toggleableContent.dataset.paramPrefix : '';\n",
       "    const paramName = element.parentElement.nextElementSibling.textContent.trim();\n",
       "    const fullParamName = paramPrefix ? `${paramPrefix}${paramName}` : paramName;\n",
       "\n",
       "    element.setAttribute('title', fullParamName);\n",
       "});\n",
       "</script></body>"
      ],
      "text/plain": [
       "LinearRegression()"
      ]
     },
     "execution_count": 62,
     "metadata": {},
     "output_type": "execute_result"
    }
   ],
   "source": [
    "model = LinearRegression()\n",
    "model.fit(X_train, y_train)"
   ]
  },
  {
   "cell_type": "code",
   "execution_count": 65,
   "id": "a19c4745",
   "metadata": {},
   "outputs": [
    {
     "name": "stdout",
     "output_type": "stream",
     "text": [
      "(1, 5) (1,)\n"
     ]
    }
   ],
   "source": [
    "print(X_test.shape, y_test.shape)\n"
   ]
  },
  {
   "cell_type": "code",
   "execution_count": 67,
   "id": "8f93d4c1",
   "metadata": {},
   "outputs": [],
   "source": [
    "final_dataset = pd.merge(crop_with_soil, crop_prices, on=[\"Year\", \"Crop\"], how=\"left\")"
   ]
  },
  {
   "cell_type": "code",
   "execution_count": 68,
   "id": "5985609d",
   "metadata": {},
   "outputs": [
    {
     "name": "stdout",
     "output_type": "stream",
     "text": [
      "0\n"
     ]
    }
   ],
   "source": [
    "print(final_dataset[\"Avg_Market_Price (₹/Quintal)\"].isnull().sum())"
   ]
  },
  {
   "cell_type": "code",
   "execution_count": 70,
   "id": "17720526",
   "metadata": {},
   "outputs": [
    {
     "data": {
      "text/plain": [
       "Crop\n",
       "rice         74250.000000\n",
       "wheat        45600.000000\n",
       "bajra        30857.142857\n",
       "ragi         26923.076923\n",
       "sugarcane    24000.000000\n",
       "Name: Estimated_Revenue_per_Ha, dtype: float64"
      ]
     },
     "execution_count": 70,
     "metadata": {},
     "output_type": "execute_result"
    }
   ],
   "source": [
    "final_dataset[\"Estimated_Revenue_per_Ha\"] = final_dataset[\"Yield_Ton_per_Ha\"] * 10 * final_dataset[\"Avg_Market_Price (₹/Quintal)\"]\n",
    "final_dataset.groupby(\"Crop\")[\"Estimated_Revenue_per_Ha\"].mean().sort_values(ascending=False).head(10)"
   ]
  },
  {
   "cell_type": "code",
   "execution_count": 71,
   "id": "d9677943",
   "metadata": {},
   "outputs": [
    {
     "data": {
      "text/plain": [
       "<seaborn.axisgrid.PairGrid at 0x16fd7aa4cd0>"
      ]
     },
     "execution_count": 71,
     "metadata": {},
     "output_type": "execute_result"
    },
    {
     "data": {
      "image/png": "[encoded data removed]",
      "text/plain": [
       "<Figure size 1500x1500 with 42 Axes>"
      ]
     },
     "metadata": {},
     "output_type": "display_data"
    }
   ],
   "source": [
    "sns.pairplot(final_dataset[[\"Yield_Ton_per_Ha\", \"pH\", \"N (mg/kg)\", \"P (mg/kg)\", \"K (mg/kg)\", \"Annual_Rainfall_mm\"]])\n"
   ]
  },
  {
   "cell_type": "code",
   "execution_count": 72,
   "id": "667d53fc",
   "metadata": {},
   "outputs": [],
   "source": [
    "final_dataset[\"Profitability_Score\"] = (\n",
    "    final_dataset[\"Yield_Ton_per_Ha\"] * final_dataset[\"Avg_Market_Price (₹/Quintal)\"] / 10\n",
    ")"
   ]
  },
  {
   "cell_type": "code",
   "execution_count": 73,
   "id": "f52361db",
   "metadata": {},
   "outputs": [
    {
     "name": "stdout",
     "output_type": "stream",
     "text": [
      "   Yield_Ton_per_Ha  Avg_Market_Price (₹/Quintal)  Profitability_Score\n",
      "0          2.400000                          1900           456.000000\n",
      "1          1.928571                          1600           308.571429\n",
      "2          3.375000                          2200           742.500000\n",
      "3          1.538462                          1750           269.230769\n",
      "4          8.000000                           300           240.000000\n"
     ]
    }
   ],
   "source": [
    "print(final_dataset[[\"Yield_Ton_per_Ha\", \"Avg_Market_Price (₹/Quintal)\", \"Profitability_Score\"]].head())\n"
   ]
  },
  {
   "cell_type": "code",
   "execution_count": 74,
   "id": "f95b84c0",
   "metadata": {},
   "outputs": [
    {
     "name": "stdout",
     "output_type": "stream",
     "text": [
      "0\n"
     ]
    }
   ],
   "source": [
    "print(final_dataset[\"Profitability_Score\"].isnull().sum())\n"
   ]
  },
  {
   "cell_type": "code",
   "execution_count": 75,
   "id": "04b4d394",
   "metadata": {},
   "outputs": [
    {
     "name": "stdout",
     "output_type": "stream",
     "text": [
      "count      5.000000\n",
      "mean     403.260440\n",
      "std      207.031926\n",
      "min      240.000000\n",
      "25%      269.230769\n",
      "50%      308.571429\n",
      "75%      456.000000\n",
      "max      742.500000\n",
      "Name: Profitability_Score, dtype: float64\n"
     ]
    }
   ],
   "source": [
    "print(final_dataset[\"Profitability_Score\"].describe())\n"
   ]
  },
  {
   "cell_type": "code",
   "execution_count": 76,
   "id": "7ddce5b8",
   "metadata": {},
   "outputs": [
    {
     "name": "stdout",
     "output_type": "stream",
     "text": [
      "Crop\n",
      "rice         742.500000\n",
      "wheat        456.000000\n",
      "bajra        308.571429\n",
      "ragi         269.230769\n",
      "sugarcane    240.000000\n",
      "Name: Profitability_Score, dtype: float64\n"
     ]
    }
   ],
   "source": [
    "print(final_dataset.groupby(\"Crop\")[\"Profitability_Score\"].mean().sort_values(ascending=False).head(10))\n"
   ]
  },
  {
   "cell_type": "code",
   "execution_count": 77,
   "id": "9eef221c",
   "metadata": {},
   "outputs": [
    {
     "name": "stdout",
     "output_type": "stream",
     "text": [
      "District\n",
      "ludhiana    742.500000\n",
      "pune        456.000000\n",
      "nashik      308.571429\n",
      "mysore      269.230769\n",
      "meerut      240.000000\n",
      "Name: Profitability_Score, dtype: float64\n"
     ]
    }
   ],
   "source": [
    "print(final_dataset.groupby(\"District\")[\"Profitability_Score\"].mean().sort_values(ascending=False).head(10))\n"
   ]
  },
  {
   "cell_type": "code",
   "execution_count": 78,
   "id": "25936907",
   "metadata": {},
   "outputs": [],
   "source": [
    "final_dataset = final_dataset[[\n",
    "    \"State_x\", \"District\", \"Crop\", \"Year\", \"Yield_Ton_per_Ha\",\n",
    "    \"Avg_Market_Price (₹/Quintal)\", \"Profitability_Score\",\n",
    "    \"Soil_Type\", \"pH\", \"N (mg/kg)\", \"P (mg/kg)\", \"K (mg/kg)\",\n",
    "    \"Annual_Rainfall_mm\"\n",
    "]].rename(columns={\"State_x\": \"State\"})"
   ]
  },
  {
   "cell_type": "code",
   "execution_count": 79,
   "id": "02f2ef5f",
   "metadata": {},
   "outputs": [
    {
     "name": "stdout",
     "output_type": "stream",
     "text": [
      "Index(['State', 'District', 'Crop', 'Year', 'Yield_Ton_per_Ha',\n",
      "       'Avg_Market_Price (₹/Quintal)', 'Profitability_Score', 'Soil_Type',\n",
      "       'pH', 'N (mg/kg)', 'P (mg/kg)', 'K (mg/kg)', 'Annual_Rainfall_mm'],\n",
      "      dtype='object')\n"
     ]
    }
   ],
   "source": [
    "print(final_dataset.columns)\n"
   ]
  },
  {
   "cell_type": "code",
   "execution_count": 80,
   "id": "e32c810f",
   "metadata": {},
   "outputs": [
    {
     "data": {
      "text/html": [
       "<div>\n",
       "<style scoped>\n",
       "    .dataframe tbody tr th:only-of-type {\n",
       "        vertical-align: middle;\n",
       "    }\n",
       "\n",
       "    .dataframe tbody tr th {\n",
       "        vertical-align: top;\n",
       "    }\n",
       "\n",
       "    .dataframe thead th {\n",
       "        text-align: right;\n",
       "    }\n",
       "</style>\n",
       "<table border=\"1\" class=\"dataframe\">\n",
       "  <thead>\n",
       "    <tr style=\"text-align: right;\">\n",
       "      <th></th>\n",
       "      <th>State</th>\n",
       "      <th>District</th>\n",
       "      <th>Crop</th>\n",
       "      <th>Year</th>\n",
       "      <th>Yield_Ton_per_Ha</th>\n",
       "      <th>Avg_Market_Price (₹/Quintal)</th>\n",
       "      <th>Profitability_Score</th>\n",
       "      <th>Soil_Type</th>\n",
       "      <th>pH</th>\n",
       "      <th>N (mg/kg)</th>\n",
       "      <th>P (mg/kg)</th>\n",
       "      <th>K (mg/kg)</th>\n",
       "      <th>Annual_Rainfall_mm</th>\n",
       "    </tr>\n",
       "  </thead>\n",
       "  <tbody>\n",
       "    <tr>\n",
       "      <th>0</th>\n",
       "      <td>Maharashtra</td>\n",
       "      <td>pune</td>\n",
       "      <td>wheat</td>\n",
       "      <td>2020</td>\n",
       "      <td>2.400000</td>\n",
       "      <td>1900</td>\n",
       "      <td>456.000000</td>\n",
       "      <td>Black Cotton</td>\n",
       "      <td>6.5</td>\n",
       "      <td>250</td>\n",
       "      <td>45</td>\n",
       "      <td>300</td>\n",
       "      <td>1015.7</td>\n",
       "    </tr>\n",
       "    <tr>\n",
       "      <th>1</th>\n",
       "      <td>Maharashtra</td>\n",
       "      <td>nashik</td>\n",
       "      <td>bajra</td>\n",
       "      <td>2020</td>\n",
       "      <td>1.928571</td>\n",
       "      <td>1600</td>\n",
       "      <td>308.571429</td>\n",
       "      <td>Red Soil</td>\n",
       "      <td>6.2</td>\n",
       "      <td>180</td>\n",
       "      <td>30</td>\n",
       "      <td>250</td>\n",
       "      <td>1029.6</td>\n",
       "    </tr>\n",
       "    <tr>\n",
       "      <th>2</th>\n",
       "      <td>Punjab</td>\n",
       "      <td>ludhiana</td>\n",
       "      <td>rice</td>\n",
       "      <td>2020</td>\n",
       "      <td>3.375000</td>\n",
       "      <td>2200</td>\n",
       "      <td>742.500000</td>\n",
       "      <td>Alluvial</td>\n",
       "      <td>7.1</td>\n",
       "      <td>270</td>\n",
       "      <td>50</td>\n",
       "      <td>320</td>\n",
       "      <td>685.6</td>\n",
       "    </tr>\n",
       "    <tr>\n",
       "      <th>3</th>\n",
       "      <td>Karnataka</td>\n",
       "      <td>mysore</td>\n",
       "      <td>ragi</td>\n",
       "      <td>2021</td>\n",
       "      <td>1.538462</td>\n",
       "      <td>1750</td>\n",
       "      <td>269.230769</td>\n",
       "      <td>Laterite</td>\n",
       "      <td>6.8</td>\n",
       "      <td>190</td>\n",
       "      <td>40</td>\n",
       "      <td>280</td>\n",
       "      <td>758.6</td>\n",
       "    </tr>\n",
       "    <tr>\n",
       "      <th>4</th>\n",
       "      <td>Uttar Pradesh</td>\n",
       "      <td>meerut</td>\n",
       "      <td>sugarcane</td>\n",
       "      <td>2021</td>\n",
       "      <td>8.000000</td>\n",
       "      <td>300</td>\n",
       "      <td>240.000000</td>\n",
       "      <td>Clay Loam</td>\n",
       "      <td>7.0</td>\n",
       "      <td>220</td>\n",
       "      <td>35</td>\n",
       "      <td>290</td>\n",
       "      <td>918.0</td>\n",
       "    </tr>\n",
       "  </tbody>\n",
       "</table>\n",
       "</div>"
      ],
      "text/plain": [
       "           State  District       Crop  ...  P (mg/kg)  K (mg/kg)  Annual_Rainfall_mm\n",
       "0    Maharashtra      pune      wheat  ...         45        300              1015.7\n",
       "1    Maharashtra    nashik      bajra  ...         30        250              1029.6\n",
       "2         Punjab  ludhiana       rice  ...         50        320               685.6\n",
       "3      Karnataka    mysore       ragi  ...         40        280               758.6\n",
       "4  Uttar Pradesh    meerut  sugarcane  ...         35        290               918.0\n",
       "\n",
       "[5 rows x 13 columns]"
      ]
     },
     "execution_count": 80,
     "metadata": {},
     "output_type": "execute_result"
    }
   ],
   "source": [
    "final_dataset.head()\n"
   ]
  },
  {
   "cell_type": "code",
   "execution_count": 81,
   "id": "eafdd7cf",
   "metadata": {},
   "outputs": [
    {
     "name": "stdout",
     "output_type": "stream",
     "text": [
      "(5, 13)\n",
      "State                           0\n",
      "District                        0\n",
      "Crop                            0\n",
      "Year                            0\n",
      "Yield_Ton_per_Ha                0\n",
      "Avg_Market_Price (₹/Quintal)    0\n",
      "Profitability_Score             0\n",
      "Soil_Type                       0\n",
      "pH                              0\n",
      "N (mg/kg)                       0\n",
      "P (mg/kg)                       0\n",
      "K (mg/kg)                       0\n",
      "Annual_Rainfall_mm              0\n",
      "dtype: int64\n"
     ]
    }
   ],
   "source": [
    "print(final_dataset.shape)\n",
    "print(final_dataset.isnull().sum())\n"
   ]
  },
  {
   "cell_type": "code",
   "execution_count": 82,
   "id": "8ce2314e",
   "metadata": {},
   "outputs": [],
   "source": [
    "final_dataset.to_csv(\"final_agri_dataset.csv\", index=False)\n"
   ]
  },
  {
   "cell_type": "code",
   "execution_count": null,
   "id": "feab4bc6",
   "metadata": {},
   "outputs": [],
   "source": []
  }
 ],
 "metadata": {
  "kernelspec": {
   "display_name": "Python 3",
   "language": "python",
   "name": "python3"
  },
  "language_info": {
   "codemirror_mode": {
    "name": "ipython",
    "version": 3
   },
   "file_extension": ".py",
   "mimetype": "text/x-python",
   "name": "python",
   "nbconvert_exporter": "python",
   "pygments_lexer": "ipython3",
   "version": "3.13.1"
  }
 },
 "nbformat": 4,
 "nbformat_minor": 5
}
